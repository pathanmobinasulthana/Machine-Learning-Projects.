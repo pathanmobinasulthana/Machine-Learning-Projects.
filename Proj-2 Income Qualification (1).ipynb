{
 "cells": [
  {
   "cell_type": "markdown",
   "id": "10980446-0ec6-49ab-b1e2-d7eb3594471e",
   "metadata": {},
   "source": [
    "# Income Qualification."
   ]
  },
  {
   "cell_type": "markdown",
   "id": "b8b8376c-b0fe-4bbd-9f72-5dd7e1135e95",
   "metadata": {},
   "source": [
    "## Importing required libraries and dataset."
   ]
  },
  {
   "cell_type": "code",
   "execution_count": null,
   "id": "664841b7-da29-4686-9299-1477ca5e71f8",
   "metadata": {},
   "outputs": [],
   "source": [
    "import pandas as pd\n",
    "import numpy as np \n",
    "import seaborn as sns \n",
    "import matplotlib.pyplot as plt \n",
    "%matplotlib inline"
   ]
  },
  {
   "cell_type": "code",
   "execution_count": null,
   "id": "f259f907",
   "metadata": {},
   "outputs": [],
   "source": [
    "train=pd.read_csv(\"train.csv\")"
   ]
  },
  {
   "cell_type": "code",
   "execution_count": null,
   "id": "ec119218",
   "metadata": {},
   "outputs": [],
   "source": [
    "test=pd.read_csv(\"test.csv\")"
   ]
  },
  {
   "cell_type": "code",
   "execution_count": null,
   "id": "f7891a40",
   "metadata": {},
   "outputs": [],
   "source": [
    "display(train.shape,train.head())"
   ]
  },
  {
   "cell_type": "code",
   "execution_count": null,
   "id": "0fa49ec7",
   "metadata": {},
   "outputs": [],
   "source": [
    "display(test.shape,test.head())"
   ]
  },
  {
   "cell_type": "markdown",
   "id": "892d53ad",
   "metadata": {},
   "source": [
    "## Let us identify our target variable"
   ]
  },
  {
   "cell_type": "code",
   "execution_count": null,
   "id": "1b8e5798",
   "metadata": {},
   "outputs": [],
   "source": [
    "\n",
    "for i in train.columns:\n",
    "    if i not in test.columns:\n",
    "        print(\"Our Target variable is {}\".format(i))"
   ]
  },
  {
   "cell_type": "markdown",
   "id": "1de1d154",
   "metadata": {},
   "source": [
    "## Lets Understand the type of data."
   ]
  },
  {
   "cell_type": "code",
   "execution_count": null,
   "id": "073fa7a2",
   "metadata": {},
   "outputs": [],
   "source": [
    "print(train.dtypes.value_counts())"
   ]
  },
  {
   "cell_type": "code",
   "execution_count": null,
   "id": "00e95d77",
   "metadata": {},
   "outputs": [],
   "source": [
    "print(train.info())"
   ]
  },
  {
   "cell_type": "code",
   "execution_count": null,
   "id": "f47da469",
   "metadata": {},
   "outputs": [],
   "source": [
    "train_info =pd.DataFrame(columns=['Name of col','Num of Null','Dtype','N_unique'])\n",
    "\n",
    "for i in range(0,len(train.columns)):\n",
    "    train_info.loc[i]=[train.columns[i],\n",
    "                    train[train.columns[i]].isnull().sum(),\n",
    "                    train[train.columns[i]].dtypes,\n",
    "                    train[train.columns[i]].nunique()]\n",
    "    train_info"
   ]
  },
  {
   "cell_type": "code",
   "execution_count": null,
   "id": "fb3064f4",
   "metadata": {},
   "outputs": [],
   "source": [
    "train_info"
   ]
  },
  {
   "cell_type": "code",
   "execution_count": null,
   "id": "6ce49429",
   "metadata": {},
   "outputs": [],
   "source": [
    "train.describe(include=['O'])"
   ]
  },
  {
   "cell_type": "markdown",
   "id": "f8470959",
   "metadata": {},
   "source": [
    "# Check If there are any Biases in the dataset "
   ]
  },
  {
   "cell_type": "code",
   "execution_count": null,
   "id": "b264df2c",
   "metadata": {},
   "outputs": [],
   "source": [
    "train[\"Target\"].value_counts()"
   ]
  },
  {
   "cell_type": "code",
   "execution_count": null,
   "id": "f54d8043",
   "metadata": {},
   "outputs": [],
   "source": [
    "train[\"Target\"].value_counts().plot.bar(width=0.4,color='c',edgecolor='k',linewidth=1)\n",
    "plt.xlabel(\"Target Values\")\n",
    "plt.ylabel(\"Count Of Households\")\n",
    "plt.title(\"Target Column Spred\")\n",
    "plt.show()"
   ]
  },
  {
   "cell_type": "markdown",
   "id": "e4542ccd",
   "metadata": {},
   "source": [
    "## Check whether all members of the house have the same poverty level "
   ]
  },
  {
   "cell_type": "code",
   "execution_count": null,
   "id": "aba5d7de",
   "metadata": {},
   "outputs": [],
   "source": [
    "# Household with the same Poverty Level \n",
    "poverty_equal = train.groupby('idhogar')['Target'].apply(lambda X:X.nunique()==1)\n",
    "\n",
    "# Household with un-equal poverty level \n",
    "poverty_unequal = poverty_equal[poverty_equal != True]\n",
    "\n",
    "print( \" There are {} Households where all the family members of the house do not have same Povert Level.\".format(len(poverty_unequal)))\n"
   ]
  },
  {
   "cell_type": "markdown",
   "id": "c4d503fa",
   "metadata": {},
   "source": [
    "## Check if there is a House withouut a family head."
   ]
  },
  {
   "cell_type": "code",
   "execution_count": null,
   "id": "8dc2daef",
   "metadata": {},
   "outputs": [],
   "source": [
    "train.columns"
   ]
  },
  {
   "cell_type": "code",
   "execution_count": null,
   "id": "c2a52aaa",
   "metadata": {},
   "outputs": [],
   "source": [
    "# Households with the head \n",
    "\n",
    "household_head =train.groupby('idhogar')['parentesco1'].sum()"
   ]
  },
  {
   "cell_type": "code",
   "execution_count": null,
   "id": "ebc6f1a8",
   "metadata": {},
   "outputs": [],
   "source": [
    "# Househods without head \n",
    "household_without_head = train.loc[train['idhogar'].isin(household_head[household_head == 0].index), :]\n",
    "household_without_head['idhogar'].nunique()"
   ]
  },
  {
   "cell_type": "markdown",
   "id": "d32d4f83",
   "metadata": {},
   "source": [
    "###  there are 15 Households without a Head "
   ]
  },
  {
   "cell_type": "markdown",
   "id": "5381824f",
   "metadata": {},
   "source": [
    "## Set Poverty level of the members and the head of the House within a family "
   ]
  },
  {
   "cell_type": "code",
   "execution_count": null,
   "id": "3b3d88b1",
   "metadata": {},
   "outputs": [],
   "source": [
    "Poverty_level=train[train['v2a1'] !=0]"
   ]
  },
  {
   "cell_type": "code",
   "execution_count": null,
   "id": "d8ddb114",
   "metadata": {},
   "outputs": [],
   "source": [
    "Poverty_level.shape"
   ]
  },
  {
   "cell_type": "code",
   "execution_count": null,
   "id": "5b2565b4",
   "metadata": {},
   "outputs": [],
   "source": [
    "poverty_level=Poverty_level.groupby('area1')['v2a1'].apply(np.median)"
   ]
  },
  {
   "cell_type": "code",
   "execution_count": null,
   "id": "e8121290",
   "metadata": {},
   "outputs": [],
   "source": [
    "poverty_level"
   ]
  },
  {
   "cell_type": "markdown",
   "id": "d3f3422b",
   "metadata": {},
   "source": [
    "### For rural area level if people paying rent less than 8000 is under poverty level.\n",
    "###  For Urban area level if people paying rent less than 140000 is under poverty level."
   ]
  },
  {
   "cell_type": "code",
   "execution_count": null,
   "id": "16ff9e8f",
   "metadata": {},
   "outputs": [],
   "source": [
    "def povert(x):\n",
    "    if x<8000:\n",
    "        return('Below poverty level')\n",
    "    \n",
    "    elif x>140000:\n",
    "        return('Above poverty level')\n",
    "    elif x<140000:\n",
    "        return('Below poverty level: Ur-ban ; Above poverty level : Rural ')\n",
    "   "
   ]
  },
  {
   "cell_type": "code",
   "execution_count": null,
   "id": "107116d9",
   "metadata": {},
   "outputs": [],
   "source": [
    "Poverty=Poverty_level['v2a1'].apply(povert)"
   ]
  },
  {
   "cell_type": "code",
   "execution_count": null,
   "id": "bab86d55",
   "metadata": {},
   "outputs": [],
   "source": [
    "Poverty.shape"
   ]
  },
  {
   "cell_type": "code",
   "execution_count": null,
   "id": "b4b4c643",
   "metadata": {},
   "outputs": [],
   "source": [
    "pd.crosstab(Poverty,Poverty_level['area1']).T"
   ]
  },
  {
   "cell_type": "markdown",
   "id": "2e40cdfd",
   "metadata": {},
   "source": [
    "## Count how many null values are Existing in columns \n"
   ]
  },
  {
   "cell_type": "code",
   "execution_count": null,
   "id": "61cc6155",
   "metadata": {},
   "outputs": [],
   "source": [
    "train.isnull().sum()"
   ]
  },
  {
   "cell_type": "code",
   "execution_count": null,
   "id": "4a681ab1",
   "metadata": {},
   "outputs": [],
   "source": [
    "\n",
    "for i in range(0,len(train.columns)):\n",
    "    train_info.loc[i]=[train.columns[i],\n",
    "                    train[train.columns[i]].isnull().sum(),\n",
    "                    train[train.columns[i]].dtypes,\n",
    "                    train[train.columns[i]].nunique()]\n",
    "    "
   ]
  },
  {
   "cell_type": "code",
   "execution_count": null,
   "id": "13754cca",
   "metadata": {},
   "outputs": [],
   "source": [
    "train_info"
   ]
  },
  {
   "cell_type": "code",
   "execution_count": null,
   "id": "3cf89d5d",
   "metadata": {},
   "outputs": [],
   "source": [
    "train_info[train_info[\"Num of Null\"]>0]"
   ]
  },
  {
   "cell_type": "code",
   "execution_count": null,
   "id": "d4599182",
   "metadata": {},
   "outputs": [],
   "source": [
    "train_info[\"Num of Null\"].sum()"
   ]
  },
  {
   "cell_type": "markdown",
   "id": "8e9963b6",
   "metadata": {},
   "source": [
    "## Remove null value rows of the target variable."
   ]
  },
  {
   "cell_type": "code",
   "execution_count": null,
   "id": "ff566481",
   "metadata": {},
   "outputs": [],
   "source": [
    "train.Target.isnull().sum()"
   ]
  },
  {
   "cell_type": "markdown",
   "id": "afc6ab77",
   "metadata": {},
   "source": [
    "### There are NO Null values in the Target variable."
   ]
  },
  {
   "cell_type": "markdown",
   "id": "fed5563d-d413-469b-9239-15ff866cf737",
   "metadata": {},
   "source": [
    "## Treating Mix values "
   ]
  },
  {
   "cell_type": "code",
   "execution_count": null,
   "id": "1448abac",
   "metadata": {},
   "outputs": [],
   "source": [
    "train.loc[:,[\"dependency\",\"edjefe\",\"edjefa\"]].head()"
   ]
  },
  {
   "cell_type": "code",
   "execution_count": null,
   "id": "858eb397",
   "metadata": {},
   "outputs": [],
   "source": [
    "mapping ={\"yes\": 1, \"no\": 0}\n",
    "\n",
    "for data in [train,test]:\n",
    "    data[\"dependency\"] =data[\"dependency\"].replace(mapping).astype(float)\n",
    "    data[\"edjefe\"] =data[\"edjefe\"].replace(mapping).astype(float)\n",
    "    data[\"edjefa\"] =data[\"edjefa\"].replace(mapping).astype(float)\n",
    "    "
   ]
  },
  {
   "cell_type": "code",
   "execution_count": null,
   "id": "90bb4134",
   "metadata": {},
   "outputs": [],
   "source": [
    "train.loc[:,[\"dependency\",\"edjefe\",\"edjefa\"]].head()"
   ]
  },
  {
   "cell_type": "code",
   "execution_count": null,
   "id": "849047d4",
   "metadata": {},
   "outputs": [],
   "source": [
    "train[train['v2a1'].isnull()].head()"
   ]
  },
  {
   "cell_type": "code",
   "execution_count": null,
   "id": "cdb56287",
   "metadata": {},
   "outputs": [],
   "source": [
    "float_col=[]\n",
    "for i in train.columns:\n",
    "    a=train[i].dtype\n",
    "    if a == 'float64':\n",
    "        float_col.append(i)\n",
    "print(float_col)"
   ]
  },
  {
   "cell_type": "code",
   "execution_count": null,
   "id": "d2eafe5b",
   "metadata": {},
   "outputs": [],
   "source": [
    "train[float_col].isna().sum()"
   ]
  },
  {
   "cell_type": "code",
   "execution_count": null,
   "id": "ea71c2f4",
   "metadata": {},
   "outputs": [],
   "source": [
    "train['v2a1'].fillna(0,inplace=True)\n",
    "train['v18q1'].fillna(0,inplace=True)"
   ]
  },
  {
   "cell_type": "code",
   "execution_count": null,
   "id": "006c83e8",
   "metadata": {},
   "outputs": [],
   "source": [
    "train.drop(['Id','idhogar','tipovivi3', 'v18q','rez_esc','elimbasu5'],axis=1,inplace=True)"
   ]
  },
  {
   "cell_type": "code",
   "execution_count": null,
   "id": "c5d1861c",
   "metadata": {},
   "outputs": [],
   "source": [
    "train['meaneduc'].fillna(np.mean(train['meaneduc']),inplace=True)\n",
    "train['SQBmeaned'].fillna(np.mean(train['SQBmeaned']),inplace=True)\n",
    "print(train.isna().sum().value_counts())"
   ]
  },
  {
   "cell_type": "code",
   "execution_count": null,
   "id": "26e32808",
   "metadata": {},
   "outputs": [],
   "source": [
    "int_col=[]\n",
    "for i in train.columns:\n",
    "    a=train[i].dtype\n",
    "    if a == 'int64':\n",
    "        int_col.append(i)\n",
    "print(int_col)"
   ]
  },
  {
   "cell_type": "code",
   "execution_count": null,
   "id": "0b9ca567",
   "metadata": {},
   "outputs": [],
   "source": [
    "train[int_col].isna().sum().value_counts()"
   ]
  },
  {
   "cell_type": "markdown",
   "id": "61126c65",
   "metadata": {},
   "source": [
    "- There are No Null values in Dataset"
   ]
  },
  {
   "cell_type": "markdown",
   "id": "7b5f3145",
   "metadata": {},
   "source": [
    "## Predict the accuracy using random forest classifier."
   ]
  },
  {
   "cell_type": "code",
   "execution_count": null,
   "id": "4a1f70aa",
   "metadata": {},
   "outputs": [],
   "source": [
    "from sklearn.ensemble import RandomForestClassifier\n",
    "from sklearn.model_selection import train_test_split"
   ]
  },
  {
   "cell_type": "code",
   "execution_count": null,
   "id": "c8154aa9",
   "metadata": {},
   "outputs": [],
   "source": [
    "X=train.drop('Target',axis=1)\n",
    "y=train.Target"
   ]
  },
  {
   "cell_type": "code",
   "execution_count": null,
   "id": "dd8b2757",
   "metadata": {},
   "outputs": [],
   "source": [
    "X_col=X.columns"
   ]
  },
  {
   "cell_type": "code",
   "execution_count": null,
   "id": "5e5d5d18",
   "metadata": {},
   "outputs": [],
   "source": [
    "\n",
    "from sklearn.preprocessing import StandardScaler\n",
    "SS=StandardScaler()\n",
    "X_1=SS.fit_transform(X)\n",
    "X_1=pd.DataFrame(X,columns=X_col)"
   ]
  },
  {
   "cell_type": "code",
   "execution_count": null,
   "id": "605289ed",
   "metadata": {},
   "outputs": [],
   "source": [
    "from sklearn.model_selection import train_test_split"
   ]
  },
  {
   "cell_type": "code",
   "execution_count": null,
   "id": "3746c60d",
   "metadata": {},
   "outputs": [],
   "source": [
    "X_train,X_test,Y_train,Y_test=train_test_split(X_1,y,test_size=0.25,stratify=y,random_state=0)"
   ]
  },
  {
   "cell_type": "code",
   "execution_count": null,
   "id": "57dd8e9c",
   "metadata": {},
   "outputs": [],
   "source": [
    "from sklearn.pipeline import Pipeline\n",
    "from sklearn.model_selection import GridSearchCV\n",
    "\n",
    "rfc=RandomForestClassifier(random_state=0)\n",
    "parameters={'n_estimators':[10,50,100,300],'max_depth':[3,5,10,15]}\n",
    "grid=zip([rfc],[parameters])\n",
    "\n",
    "best_=None\n",
    "\n",
    "for i, j in grid:\n",
    "    a=GridSearchCV(i,param_grid=j,cv=3,n_jobs=1)\n",
    "    a.fit(X_train,Y_train)\n",
    "    if best_ is None:\n",
    "        best_=a\n",
    "    elif a.best_score_>best_.best_score_:\n",
    "        best_=a\n",
    "        \n",
    "        \n",
    "print (\"Best CV Score\",best_.best_score_)\n",
    "print (\"Model Parameters\",best_.best_params_)\n",
    "print(\"Best Estimator\",best_.best_estimator_)"
   ]
  },
  {
   "cell_type": "code",
   "execution_count": null,
   "id": "e38dfc3f",
   "metadata": {},
   "outputs": [],
   "source": [
    "\n",
    "RFC=best_.best_estimator_\n",
    "Model=RFC.fit(X_train,Y_train)\n",
    "pred=Model.predict(X_test)"
   ]
  },
  {
   "cell_type": "code",
   "execution_count": null,
   "id": "b484b9b4",
   "metadata": {},
   "outputs": [],
   "source": [
    "print('Model Score of train data : {}'.format(Model.score(X_train,Y_train)))\n",
    "print('Model Score of test data : {}'.format(Model.score(X_test,Y_test)))"
   ]
  },
  {
   "cell_type": "code",
   "execution_count": null,
   "id": "7f33701e",
   "metadata": {},
   "outputs": [],
   "source": [
    "from sklearn.metrics import confusion_matrix,f1_score,accuracy_score"
   ]
  },
  {
   "cell_type": "code",
   "execution_count": null,
   "id": "6c0e9c71",
   "metadata": {},
   "outputs": [],
   "source": [
    "confusion_matrix(Y_test,pred)"
   ]
  },
  {
   "cell_type": "code",
   "execution_count": null,
   "id": "2f4f810d",
   "metadata": {},
   "outputs": [],
   "source": [
    "accuracy_score(Y_test,pred)"
   ]
  },
  {
   "cell_type": "markdown",
   "id": "730ac8a3",
   "metadata": {},
   "source": [
    "### Conclusion :\n",
    "### *Using RandomForest Classifier we can predict test_data with accuracy of 88%.*"
   ]
  },
  {
   "cell_type": "markdown",
   "id": "fe441c70",
   "metadata": {},
   "source": [
    "## Check the accuracy using random forest with cross validation.¶"
   ]
  },
  {
   "cell_type": "code",
   "execution_count": null,
   "id": "7e622556",
   "metadata": {},
   "outputs": [],
   "source": [
    "from sklearn.model_selection import KFold,cross_val_score\n",
    "\n",
    "seed = np.random.seed(21)"
   ]
  },
  {
   "cell_type": "code",
   "execution_count": null,
   "id": "8c46c234",
   "metadata": {},
   "outputs": [],
   "source": [
    "kfold = KFold(n_splits=4,random_state=seed,shuffle=True)\n",
    "print(cross_val_score(RFC, X, y, cv=kfold, scoring='accuracy'))"
   ]
  },
  {
   "cell_type": "code",
   "execution_count": null,
   "id": "8ce164b6",
   "metadata": {},
   "outputs": [],
   "source": [
    "print(cross_val_score(RFC, X, y, cv=kfold, scoring='accuracy').mean())"
   ]
  },
  {
   "cell_type": "markdown",
   "id": "aa37b8b4",
   "metadata": {},
   "source": [
    "### Conclusion : Using RandomForest Classifier and Corss Validation we can predict test_data with accuracy of 88%."
   ]
  },
  {
   "cell_type": "code",
   "execution_count": null,
   "id": "0e6434d5",
   "metadata": {},
   "outputs": [],
   "source": []
  }
 ],
 "metadata": {
  "kernelspec": {
   "display_name": "Python 3 [3.10]",
   "language": "python",
   "name": "python3"
  },
  "language_info": {
   "codemirror_mode": {
    "name": "ipython",
    "version": 3
   },
   "file_extension": ".py",
   "mimetype": "text/x-python",
   "name": "python",
   "nbconvert_exporter": "python",
   "pygments_lexer": "ipython3",
   "version": "3.10.2"
  }
 },
 "nbformat": 4,
 "nbformat_minor": 5
}
