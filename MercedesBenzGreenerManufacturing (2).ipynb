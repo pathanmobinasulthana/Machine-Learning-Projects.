{
  "cells": [
    {
      "cell_type": "markdown",
      "source": [
        "# MercedesBenz Greener Manufacturing"
      ],
      "metadata": {
        "id": "BRyfXXjo2emH"
      },
      "id": "BRyfXXjo2emH"
    },
    {
      "cell_type": "markdown",
      "id": "3f0a04b5",
      "metadata": {
        "id": "3f0a04b5"
      },
      "source": [
        "## Importing Required Libraries"
      ]
    },
    {
      "cell_type": "code",
      "execution_count": null,
      "id": "6841538f",
      "metadata": {
        "id": "6841538f"
      },
      "outputs": [],
      "source": [
        "import pandas as pd\n",
        "import numpy as np\n",
        "import seaborn as sns\n",
        "import matplotlib.pyplot as plt\n",
        "%matplotlib inline"
      ]
    },
    {
      "cell_type": "code",
      "execution_count": null,
      "id": "5f2dee1e",
      "metadata": {
        "id": "5f2dee1e"
      },
      "outputs": [],
      "source": [
        "df_train=pd.read_csv(\"train.csv\")\n",
        "df_test=pd.read_csv(\"test.csv\")"
      ]
    },
    {
      "cell_type": "code",
      "execution_count": null,
      "id": "829b8219",
      "metadata": {
        "id": "829b8219",
        "outputId": "d8c2ed43-35ba-439d-a6fb-ddda86cb8a0d"
      },
      "outputs": [
        {
          "data": {
            "text/html": [
              "<div>\n",
              "<style scoped>\n",
              "    .dataframe tbody tr th:only-of-type {\n",
              "        vertical-align: middle;\n",
              "    }\n",
              "\n",
              "    .dataframe tbody tr th {\n",
              "        vertical-align: top;\n",
              "    }\n",
              "\n",
              "    .dataframe thead th {\n",
              "        text-align: right;\n",
              "    }\n",
              "</style>\n",
              "<table border=\"1\" class=\"dataframe\">\n",
              "  <thead>\n",
              "    <tr style=\"text-align: right;\">\n",
              "      <th></th>\n",
              "      <th>ID</th>\n",
              "      <th>y</th>\n",
              "      <th>X0</th>\n",
              "      <th>X1</th>\n",
              "      <th>X2</th>\n",
              "      <th>X3</th>\n",
              "      <th>X4</th>\n",
              "      <th>X5</th>\n",
              "      <th>X6</th>\n",
              "      <th>X8</th>\n",
              "      <th>...</th>\n",
              "      <th>X375</th>\n",
              "      <th>X376</th>\n",
              "      <th>X377</th>\n",
              "      <th>X378</th>\n",
              "      <th>X379</th>\n",
              "      <th>X380</th>\n",
              "      <th>X382</th>\n",
              "      <th>X383</th>\n",
              "      <th>X384</th>\n",
              "      <th>X385</th>\n",
              "    </tr>\n",
              "  </thead>\n",
              "  <tbody>\n",
              "    <tr>\n",
              "      <th>0</th>\n",
              "      <td>0</td>\n",
              "      <td>130.81</td>\n",
              "      <td>k</td>\n",
              "      <td>v</td>\n",
              "      <td>at</td>\n",
              "      <td>a</td>\n",
              "      <td>d</td>\n",
              "      <td>u</td>\n",
              "      <td>j</td>\n",
              "      <td>o</td>\n",
              "      <td>...</td>\n",
              "      <td>0</td>\n",
              "      <td>0</td>\n",
              "      <td>1</td>\n",
              "      <td>0</td>\n",
              "      <td>0</td>\n",
              "      <td>0</td>\n",
              "      <td>0</td>\n",
              "      <td>0</td>\n",
              "      <td>0</td>\n",
              "      <td>0</td>\n",
              "    </tr>\n",
              "    <tr>\n",
              "      <th>1</th>\n",
              "      <td>6</td>\n",
              "      <td>88.53</td>\n",
              "      <td>k</td>\n",
              "      <td>t</td>\n",
              "      <td>av</td>\n",
              "      <td>e</td>\n",
              "      <td>d</td>\n",
              "      <td>y</td>\n",
              "      <td>l</td>\n",
              "      <td>o</td>\n",
              "      <td>...</td>\n",
              "      <td>1</td>\n",
              "      <td>0</td>\n",
              "      <td>0</td>\n",
              "      <td>0</td>\n",
              "      <td>0</td>\n",
              "      <td>0</td>\n",
              "      <td>0</td>\n",
              "      <td>0</td>\n",
              "      <td>0</td>\n",
              "      <td>0</td>\n",
              "    </tr>\n",
              "    <tr>\n",
              "      <th>2</th>\n",
              "      <td>7</td>\n",
              "      <td>76.26</td>\n",
              "      <td>az</td>\n",
              "      <td>w</td>\n",
              "      <td>n</td>\n",
              "      <td>c</td>\n",
              "      <td>d</td>\n",
              "      <td>x</td>\n",
              "      <td>j</td>\n",
              "      <td>x</td>\n",
              "      <td>...</td>\n",
              "      <td>0</td>\n",
              "      <td>0</td>\n",
              "      <td>0</td>\n",
              "      <td>0</td>\n",
              "      <td>0</td>\n",
              "      <td>0</td>\n",
              "      <td>1</td>\n",
              "      <td>0</td>\n",
              "      <td>0</td>\n",
              "      <td>0</td>\n",
              "    </tr>\n",
              "    <tr>\n",
              "      <th>3</th>\n",
              "      <td>9</td>\n",
              "      <td>80.62</td>\n",
              "      <td>az</td>\n",
              "      <td>t</td>\n",
              "      <td>n</td>\n",
              "      <td>f</td>\n",
              "      <td>d</td>\n",
              "      <td>x</td>\n",
              "      <td>l</td>\n",
              "      <td>e</td>\n",
              "      <td>...</td>\n",
              "      <td>0</td>\n",
              "      <td>0</td>\n",
              "      <td>0</td>\n",
              "      <td>0</td>\n",
              "      <td>0</td>\n",
              "      <td>0</td>\n",
              "      <td>0</td>\n",
              "      <td>0</td>\n",
              "      <td>0</td>\n",
              "      <td>0</td>\n",
              "    </tr>\n",
              "    <tr>\n",
              "      <th>4</th>\n",
              "      <td>13</td>\n",
              "      <td>78.02</td>\n",
              "      <td>az</td>\n",
              "      <td>v</td>\n",
              "      <td>n</td>\n",
              "      <td>f</td>\n",
              "      <td>d</td>\n",
              "      <td>h</td>\n",
              "      <td>d</td>\n",
              "      <td>n</td>\n",
              "      <td>...</td>\n",
              "      <td>0</td>\n",
              "      <td>0</td>\n",
              "      <td>0</td>\n",
              "      <td>0</td>\n",
              "      <td>0</td>\n",
              "      <td>0</td>\n",
              "      <td>0</td>\n",
              "      <td>0</td>\n",
              "      <td>0</td>\n",
              "      <td>0</td>\n",
              "    </tr>\n",
              "  </tbody>\n",
              "</table>\n",
              "<p>5 rows × 378 columns</p>\n",
              "</div>"
            ],
            "text/plain": [
              "   ID       y  X0 X1  X2 X3 X4 X5 X6 X8  ...  X375  X376  X377  X378  X379  \\\n",
              "0   0  130.81   k  v  at  a  d  u  j  o  ...     0     0     1     0     0   \n",
              "1   6   88.53   k  t  av  e  d  y  l  o  ...     1     0     0     0     0   \n",
              "2   7   76.26  az  w   n  c  d  x  j  x  ...     0     0     0     0     0   \n",
              "3   9   80.62  az  t   n  f  d  x  l  e  ...     0     0     0     0     0   \n",
              "4  13   78.02  az  v   n  f  d  h  d  n  ...     0     0     0     0     0   \n",
              "\n",
              "   X380  X382  X383  X384  X385  \n",
              "0     0     0     0     0     0  \n",
              "1     0     0     0     0     0  \n",
              "2     0     1     0     0     0  \n",
              "3     0     0     0     0     0  \n",
              "4     0     0     0     0     0  \n",
              "\n",
              "[5 rows x 378 columns]"
            ]
          },
          "execution_count": 3,
          "metadata": {},
          "output_type": "execute_result"
        }
      ],
      "source": [
        "df_train.head()"
      ]
    },
    {
      "cell_type": "markdown",
      "id": "f6d9d602",
      "metadata": {
        "id": "f6d9d602"
      },
      "source": [
        "### 1] If for any column(s), the variance is equal to zero, then you need to remove those variable(s)."
      ]
    },
    {
      "cell_type": "code",
      "execution_count": null,
      "id": "efa5b37a",
      "metadata": {
        "id": "efa5b37a",
        "outputId": "5ec6e242-98ab-4f37-dedb-a5ef55df3080"
      },
      "outputs": [
        {
          "name": "stderr",
          "output_type": "stream",
          "text": [
            "C:\\Users\\patil.DESKTOP-PMFNMKJ\\AppData\\Local\\Temp\\ipykernel_10924\\1069090096.py:1: FutureWarning: Dropping of nuisance columns in DataFrame reductions (with 'numeric_only=None') is deprecated; in a future version this will raise TypeError.  Select only valid columns before calling the reduction.\n",
            "  df_train.var()[df_train.var()==0].index.values\n"
          ]
        },
        {
          "data": {
            "text/plain": [
              "array(['X11', 'X93', 'X107', 'X233', 'X235', 'X268', 'X289', 'X290',\n",
              "       'X293', 'X297', 'X330', 'X347'], dtype=object)"
            ]
          },
          "execution_count": 4,
          "metadata": {},
          "output_type": "execute_result"
        }
      ],
      "source": [
        "df_train.var()[df_train.var()==0].index.values"
      ]
    },
    {
      "cell_type": "code",
      "execution_count": null,
      "id": "a648d385",
      "metadata": {
        "id": "a648d385",
        "outputId": "ac74bd95-670a-4277-d425-b37f6a89e7a4"
      },
      "outputs": [
        {
          "name": "stdout",
          "output_type": "stream",
          "text": [
            "<class 'pandas.core.frame.DataFrame'>\n",
            "RangeIndex: 4209 entries, 0 to 4208\n",
            "Columns: 366 entries, ID to X385\n",
            "dtypes: float64(1), int64(357), object(8)\n",
            "memory usage: 11.8+ MB\n"
          ]
        },
        {
          "name": "stderr",
          "output_type": "stream",
          "text": [
            "C:\\Users\\patil.DESKTOP-PMFNMKJ\\AppData\\Local\\Temp\\ipykernel_10924\\1692636223.py:2: FutureWarning: Dropping of nuisance columns in DataFrame reductions (with 'numeric_only=None') is deprecated; in a future version this will raise TypeError.  Select only valid columns before calling the reduction.\n",
            "  datafinal=df_train.drop(df_train.var()[df_train.var()==0].index.values, axis=1)\n"
          ]
        }
      ],
      "source": [
        "#drop Zero Variance columns\n",
        "datafinal=df_train.drop(df_train.var()[df_train.var()==0].index.values, axis=1)\n",
        "datafinal.info()"
      ]
    },
    {
      "cell_type": "code",
      "execution_count": null,
      "id": "933f3baa",
      "metadata": {
        "id": "933f3baa",
        "outputId": "e0f87ec3-c69b-4b7f-fe6b-b774daacff9e"
      },
      "outputs": [
        {
          "data": {
            "text/html": [
              "<div>\n",
              "<style scoped>\n",
              "    .dataframe tbody tr th:only-of-type {\n",
              "        vertical-align: middle;\n",
              "    }\n",
              "\n",
              "    .dataframe tbody tr th {\n",
              "        vertical-align: top;\n",
              "    }\n",
              "\n",
              "    .dataframe thead th {\n",
              "        text-align: right;\n",
              "    }\n",
              "</style>\n",
              "<table border=\"1\" class=\"dataframe\">\n",
              "  <thead>\n",
              "    <tr style=\"text-align: right;\">\n",
              "      <th></th>\n",
              "      <th>ID</th>\n",
              "      <th>y</th>\n",
              "      <th>X0</th>\n",
              "      <th>X1</th>\n",
              "      <th>X2</th>\n",
              "      <th>X3</th>\n",
              "      <th>X4</th>\n",
              "      <th>X5</th>\n",
              "      <th>X6</th>\n",
              "      <th>X8</th>\n",
              "      <th>...</th>\n",
              "      <th>X375</th>\n",
              "      <th>X376</th>\n",
              "      <th>X377</th>\n",
              "      <th>X378</th>\n",
              "      <th>X379</th>\n",
              "      <th>X380</th>\n",
              "      <th>X382</th>\n",
              "      <th>X383</th>\n",
              "      <th>X384</th>\n",
              "      <th>X385</th>\n",
              "    </tr>\n",
              "  </thead>\n",
              "  <tbody>\n",
              "    <tr>\n",
              "      <th>0</th>\n",
              "      <td>0</td>\n",
              "      <td>130.81</td>\n",
              "      <td>k</td>\n",
              "      <td>v</td>\n",
              "      <td>at</td>\n",
              "      <td>a</td>\n",
              "      <td>d</td>\n",
              "      <td>u</td>\n",
              "      <td>j</td>\n",
              "      <td>o</td>\n",
              "      <td>...</td>\n",
              "      <td>0</td>\n",
              "      <td>0</td>\n",
              "      <td>1</td>\n",
              "      <td>0</td>\n",
              "      <td>0</td>\n",
              "      <td>0</td>\n",
              "      <td>0</td>\n",
              "      <td>0</td>\n",
              "      <td>0</td>\n",
              "      <td>0</td>\n",
              "    </tr>\n",
              "    <tr>\n",
              "      <th>1</th>\n",
              "      <td>6</td>\n",
              "      <td>88.53</td>\n",
              "      <td>k</td>\n",
              "      <td>t</td>\n",
              "      <td>av</td>\n",
              "      <td>e</td>\n",
              "      <td>d</td>\n",
              "      <td>y</td>\n",
              "      <td>l</td>\n",
              "      <td>o</td>\n",
              "      <td>...</td>\n",
              "      <td>1</td>\n",
              "      <td>0</td>\n",
              "      <td>0</td>\n",
              "      <td>0</td>\n",
              "      <td>0</td>\n",
              "      <td>0</td>\n",
              "      <td>0</td>\n",
              "      <td>0</td>\n",
              "      <td>0</td>\n",
              "      <td>0</td>\n",
              "    </tr>\n",
              "    <tr>\n",
              "      <th>2</th>\n",
              "      <td>7</td>\n",
              "      <td>76.26</td>\n",
              "      <td>az</td>\n",
              "      <td>w</td>\n",
              "      <td>n</td>\n",
              "      <td>c</td>\n",
              "      <td>d</td>\n",
              "      <td>x</td>\n",
              "      <td>j</td>\n",
              "      <td>x</td>\n",
              "      <td>...</td>\n",
              "      <td>0</td>\n",
              "      <td>0</td>\n",
              "      <td>0</td>\n",
              "      <td>0</td>\n",
              "      <td>0</td>\n",
              "      <td>0</td>\n",
              "      <td>1</td>\n",
              "      <td>0</td>\n",
              "      <td>0</td>\n",
              "      <td>0</td>\n",
              "    </tr>\n",
              "    <tr>\n",
              "      <th>3</th>\n",
              "      <td>9</td>\n",
              "      <td>80.62</td>\n",
              "      <td>az</td>\n",
              "      <td>t</td>\n",
              "      <td>n</td>\n",
              "      <td>f</td>\n",
              "      <td>d</td>\n",
              "      <td>x</td>\n",
              "      <td>l</td>\n",
              "      <td>e</td>\n",
              "      <td>...</td>\n",
              "      <td>0</td>\n",
              "      <td>0</td>\n",
              "      <td>0</td>\n",
              "      <td>0</td>\n",
              "      <td>0</td>\n",
              "      <td>0</td>\n",
              "      <td>0</td>\n",
              "      <td>0</td>\n",
              "      <td>0</td>\n",
              "      <td>0</td>\n",
              "    </tr>\n",
              "    <tr>\n",
              "      <th>4</th>\n",
              "      <td>13</td>\n",
              "      <td>78.02</td>\n",
              "      <td>az</td>\n",
              "      <td>v</td>\n",
              "      <td>n</td>\n",
              "      <td>f</td>\n",
              "      <td>d</td>\n",
              "      <td>h</td>\n",
              "      <td>d</td>\n",
              "      <td>n</td>\n",
              "      <td>...</td>\n",
              "      <td>0</td>\n",
              "      <td>0</td>\n",
              "      <td>0</td>\n",
              "      <td>0</td>\n",
              "      <td>0</td>\n",
              "      <td>0</td>\n",
              "      <td>0</td>\n",
              "      <td>0</td>\n",
              "      <td>0</td>\n",
              "      <td>0</td>\n",
              "    </tr>\n",
              "  </tbody>\n",
              "</table>\n",
              "<p>5 rows × 366 columns</p>\n",
              "</div>"
            ],
            "text/plain": [
              "   ID       y  X0 X1  X2 X3 X4 X5 X6 X8  ...  X375  X376  X377  X378  X379  \\\n",
              "0   0  130.81   k  v  at  a  d  u  j  o  ...     0     0     1     0     0   \n",
              "1   6   88.53   k  t  av  e  d  y  l  o  ...     1     0     0     0     0   \n",
              "2   7   76.26  az  w   n  c  d  x  j  x  ...     0     0     0     0     0   \n",
              "3   9   80.62  az  t   n  f  d  x  l  e  ...     0     0     0     0     0   \n",
              "4  13   78.02  az  v   n  f  d  h  d  n  ...     0     0     0     0     0   \n",
              "\n",
              "   X380  X382  X383  X384  X385  \n",
              "0     0     0     0     0     0  \n",
              "1     0     0     0     0     0  \n",
              "2     0     1     0     0     0  \n",
              "3     0     0     0     0     0  \n",
              "4     0     0     0     0     0  \n",
              "\n",
              "[5 rows x 366 columns]"
            ]
          },
          "execution_count": 6,
          "metadata": {},
          "output_type": "execute_result"
        }
      ],
      "source": [
        "datafinal.head()"
      ]
    },
    {
      "cell_type": "markdown",
      "id": "7ef4dd16",
      "metadata": {
        "id": "7ef4dd16"
      },
      "source": [
        "### 2] Check for null and unique values for test and train sets"
      ]
    },
    {
      "cell_type": "code",
      "execution_count": null,
      "id": "f4976e44",
      "metadata": {
        "id": "f4976e44",
        "outputId": "9bfb3a02-cc98-40d3-d025-7ec8e19a0b5b"
      },
      "outputs": [
        {
          "data": {
            "text/plain": [
              "ID      0\n",
              "y       0\n",
              "X0      0\n",
              "X1      0\n",
              "X2      0\n",
              "       ..\n",
              "X380    0\n",
              "X382    0\n",
              "X383    0\n",
              "X384    0\n",
              "X385    0\n",
              "Length: 378, dtype: int64"
            ]
          },
          "execution_count": 7,
          "metadata": {},
          "output_type": "execute_result"
        }
      ],
      "source": [
        "df_train.isnull().sum()"
      ]
    },
    {
      "cell_type": "code",
      "execution_count": null,
      "id": "be856221",
      "metadata": {
        "id": "be856221",
        "outputId": "3e4b632f-2b95-4f8d-89c8-aff816bc94fd"
      },
      "outputs": [
        {
          "data": {
            "text/plain": [
              "ID      0\n",
              "X0      0\n",
              "X1      0\n",
              "X2      0\n",
              "X3      0\n",
              "       ..\n",
              "X380    0\n",
              "X382    0\n",
              "X383    0\n",
              "X384    0\n",
              "X385    0\n",
              "Length: 377, dtype: int64"
            ]
          },
          "execution_count": 8,
          "metadata": {},
          "output_type": "execute_result"
        }
      ],
      "source": [
        "df_test.isnull().sum()"
      ]
    },
    {
      "cell_type": "code",
      "execution_count": null,
      "id": "c8996e3e",
      "metadata": {
        "id": "c8996e3e",
        "outputId": "7c9c4214-6dad-4ee3-8e2f-6be9a8171d25"
      },
      "outputs": [
        {
          "data": {
            "text/html": [
              "<div>\n",
              "<style scoped>\n",
              "    .dataframe tbody tr th:only-of-type {\n",
              "        vertical-align: middle;\n",
              "    }\n",
              "\n",
              "    .dataframe tbody tr th {\n",
              "        vertical-align: top;\n",
              "    }\n",
              "\n",
              "    .dataframe thead th {\n",
              "        text-align: right;\n",
              "    }\n",
              "</style>\n",
              "<table border=\"1\" class=\"dataframe\">\n",
              "  <thead>\n",
              "    <tr style=\"text-align: right;\">\n",
              "      <th></th>\n",
              "      <th>ID</th>\n",
              "      <th>y</th>\n",
              "      <th>X0</th>\n",
              "      <th>X1</th>\n",
              "      <th>X2</th>\n",
              "      <th>X3</th>\n",
              "      <th>X4</th>\n",
              "      <th>X5</th>\n",
              "      <th>X6</th>\n",
              "      <th>X8</th>\n",
              "      <th>...</th>\n",
              "      <th>X375</th>\n",
              "      <th>X376</th>\n",
              "      <th>X377</th>\n",
              "      <th>X378</th>\n",
              "      <th>X379</th>\n",
              "      <th>X380</th>\n",
              "      <th>X382</th>\n",
              "      <th>X383</th>\n",
              "      <th>X384</th>\n",
              "      <th>X385</th>\n",
              "    </tr>\n",
              "  </thead>\n",
              "  <tbody>\n",
              "  </tbody>\n",
              "</table>\n",
              "<p>0 rows × 378 columns</p>\n",
              "</div>"
            ],
            "text/plain": [
              "Empty DataFrame\n",
              "Columns: [ID, y, X0, X1, X2, X3, X4, X5, X6, X8, X10, X11, X12, X13, X14, X15, X16, X17, X18, X19, X20, X21, X22, X23, X24, X26, X27, X28, X29, X30, X31, X32, X33, X34, X35, X36, X37, X38, X39, X40, X41, X42, X43, X44, X45, X46, X47, X48, X49, X50, X51, X52, X53, X54, X55, X56, X57, X58, X59, X60, X61, X62, X63, X64, X65, X66, X67, X68, X69, X70, X71, X73, X74, X75, X76, X77, X78, X79, X80, X81, X82, X83, X84, X85, X86, X87, X88, X89, X90, X91, X92, X93, X94, X95, X96, X97, X98, X99, X100, X101, ...]\n",
              "Index: []\n",
              "\n",
              "[0 rows x 378 columns]"
            ]
          },
          "execution_count": 9,
          "metadata": {},
          "output_type": "execute_result"
        }
      ],
      "source": [
        "df_train[df_train.isnull().any(axis=1)]"
      ]
    },
    {
      "cell_type": "code",
      "execution_count": null,
      "id": "cee9e9e3",
      "metadata": {
        "id": "cee9e9e3",
        "outputId": "dd139449-9051-4e8c-f25f-a640be1ee4e5"
      },
      "outputs": [
        {
          "data": {
            "text/html": [
              "<div>\n",
              "<style scoped>\n",
              "    .dataframe tbody tr th:only-of-type {\n",
              "        vertical-align: middle;\n",
              "    }\n",
              "\n",
              "    .dataframe tbody tr th {\n",
              "        vertical-align: top;\n",
              "    }\n",
              "\n",
              "    .dataframe thead th {\n",
              "        text-align: right;\n",
              "    }\n",
              "</style>\n",
              "<table border=\"1\" class=\"dataframe\">\n",
              "  <thead>\n",
              "    <tr style=\"text-align: right;\">\n",
              "      <th></th>\n",
              "      <th>ID</th>\n",
              "      <th>X0</th>\n",
              "      <th>X1</th>\n",
              "      <th>X2</th>\n",
              "      <th>X3</th>\n",
              "      <th>X4</th>\n",
              "      <th>X5</th>\n",
              "      <th>X6</th>\n",
              "      <th>X8</th>\n",
              "      <th>X10</th>\n",
              "      <th>...</th>\n",
              "      <th>X375</th>\n",
              "      <th>X376</th>\n",
              "      <th>X377</th>\n",
              "      <th>X378</th>\n",
              "      <th>X379</th>\n",
              "      <th>X380</th>\n",
              "      <th>X382</th>\n",
              "      <th>X383</th>\n",
              "      <th>X384</th>\n",
              "      <th>X385</th>\n",
              "    </tr>\n",
              "  </thead>\n",
              "  <tbody>\n",
              "  </tbody>\n",
              "</table>\n",
              "<p>0 rows × 377 columns</p>\n",
              "</div>"
            ],
            "text/plain": [
              "Empty DataFrame\n",
              "Columns: [ID, X0, X1, X2, X3, X4, X5, X6, X8, X10, X11, X12, X13, X14, X15, X16, X17, X18, X19, X20, X21, X22, X23, X24, X26, X27, X28, X29, X30, X31, X32, X33, X34, X35, X36, X37, X38, X39, X40, X41, X42, X43, X44, X45, X46, X47, X48, X49, X50, X51, X52, X53, X54, X55, X56, X57, X58, X59, X60, X61, X62, X63, X64, X65, X66, X67, X68, X69, X70, X71, X73, X74, X75, X76, X77, X78, X79, X80, X81, X82, X83, X84, X85, X86, X87, X88, X89, X90, X91, X92, X93, X94, X95, X96, X97, X98, X99, X100, X101, X102, ...]\n",
              "Index: []\n",
              "\n",
              "[0 rows x 377 columns]"
            ]
          },
          "execution_count": 10,
          "metadata": {},
          "output_type": "execute_result"
        }
      ],
      "source": [
        "df_test[df_test.isnull().any(axis=1)]"
      ]
    },
    {
      "cell_type": "markdown",
      "id": "1927b24b",
      "metadata": {
        "id": "1927b24b"
      },
      "source": [
        "#### There are No missing values in train and test data"
      ]
    },
    {
      "cell_type": "markdown",
      "source": [
        "##  get features and labels"
      ],
      "metadata": {
        "id": "yR1dkqYe2nuN"
      },
      "id": "yR1dkqYe2nuN"
    },
    {
      "cell_type": "code",
      "execution_count": null,
      "id": "52e0a608",
      "metadata": {
        "id": "52e0a608"
      },
      "outputs": [],
      "source": [
        "\n",
        "\n",
        "features=datafinal.iloc[:,2:]\n",
        "label=datafinal.iloc[:,1].values"
      ]
    },
    {
      "cell_type": "markdown",
      "id": "e7d25fcc",
      "metadata": {
        "id": "e7d25fcc"
      },
      "source": [
        "### 3] Apply Label Encoder."
      ]
    },
    {
      "cell_type": "code",
      "execution_count": null,
      "id": "6be92f61",
      "metadata": {
        "id": "6be92f61",
        "outputId": "f963c15f-9dea-4810-9657-62a980e774d2"
      },
      "outputs": [
        {
          "data": {
            "text/html": [
              "<div>\n",
              "<style scoped>\n",
              "    .dataframe tbody tr th:only-of-type {\n",
              "        vertical-align: middle;\n",
              "    }\n",
              "\n",
              "    .dataframe tbody tr th {\n",
              "        vertical-align: top;\n",
              "    }\n",
              "\n",
              "    .dataframe thead th {\n",
              "        text-align: right;\n",
              "    }\n",
              "</style>\n",
              "<table border=\"1\" class=\"dataframe\">\n",
              "  <thead>\n",
              "    <tr style=\"text-align: right;\">\n",
              "      <th></th>\n",
              "      <th>X0</th>\n",
              "      <th>X1</th>\n",
              "      <th>X2</th>\n",
              "      <th>X3</th>\n",
              "      <th>X4</th>\n",
              "      <th>X5</th>\n",
              "      <th>X6</th>\n",
              "      <th>X8</th>\n",
              "      <th>X10</th>\n",
              "      <th>X12</th>\n",
              "      <th>...</th>\n",
              "      <th>X375</th>\n",
              "      <th>X376</th>\n",
              "      <th>X377</th>\n",
              "      <th>X378</th>\n",
              "      <th>X379</th>\n",
              "      <th>X380</th>\n",
              "      <th>X382</th>\n",
              "      <th>X383</th>\n",
              "      <th>X384</th>\n",
              "      <th>X385</th>\n",
              "    </tr>\n",
              "  </thead>\n",
              "  <tbody>\n",
              "    <tr>\n",
              "      <th>0</th>\n",
              "      <td>k</td>\n",
              "      <td>v</td>\n",
              "      <td>at</td>\n",
              "      <td>a</td>\n",
              "      <td>d</td>\n",
              "      <td>u</td>\n",
              "      <td>j</td>\n",
              "      <td>o</td>\n",
              "      <td>0</td>\n",
              "      <td>0</td>\n",
              "      <td>...</td>\n",
              "      <td>0</td>\n",
              "      <td>0</td>\n",
              "      <td>1</td>\n",
              "      <td>0</td>\n",
              "      <td>0</td>\n",
              "      <td>0</td>\n",
              "      <td>0</td>\n",
              "      <td>0</td>\n",
              "      <td>0</td>\n",
              "      <td>0</td>\n",
              "    </tr>\n",
              "    <tr>\n",
              "      <th>1</th>\n",
              "      <td>k</td>\n",
              "      <td>t</td>\n",
              "      <td>av</td>\n",
              "      <td>e</td>\n",
              "      <td>d</td>\n",
              "      <td>y</td>\n",
              "      <td>l</td>\n",
              "      <td>o</td>\n",
              "      <td>0</td>\n",
              "      <td>0</td>\n",
              "      <td>...</td>\n",
              "      <td>1</td>\n",
              "      <td>0</td>\n",
              "      <td>0</td>\n",
              "      <td>0</td>\n",
              "      <td>0</td>\n",
              "      <td>0</td>\n",
              "      <td>0</td>\n",
              "      <td>0</td>\n",
              "      <td>0</td>\n",
              "      <td>0</td>\n",
              "    </tr>\n",
              "    <tr>\n",
              "      <th>2</th>\n",
              "      <td>az</td>\n",
              "      <td>w</td>\n",
              "      <td>n</td>\n",
              "      <td>c</td>\n",
              "      <td>d</td>\n",
              "      <td>x</td>\n",
              "      <td>j</td>\n",
              "      <td>x</td>\n",
              "      <td>0</td>\n",
              "      <td>0</td>\n",
              "      <td>...</td>\n",
              "      <td>0</td>\n",
              "      <td>0</td>\n",
              "      <td>0</td>\n",
              "      <td>0</td>\n",
              "      <td>0</td>\n",
              "      <td>0</td>\n",
              "      <td>1</td>\n",
              "      <td>0</td>\n",
              "      <td>0</td>\n",
              "      <td>0</td>\n",
              "    </tr>\n",
              "    <tr>\n",
              "      <th>3</th>\n",
              "      <td>az</td>\n",
              "      <td>t</td>\n",
              "      <td>n</td>\n",
              "      <td>f</td>\n",
              "      <td>d</td>\n",
              "      <td>x</td>\n",
              "      <td>l</td>\n",
              "      <td>e</td>\n",
              "      <td>0</td>\n",
              "      <td>0</td>\n",
              "      <td>...</td>\n",
              "      <td>0</td>\n",
              "      <td>0</td>\n",
              "      <td>0</td>\n",
              "      <td>0</td>\n",
              "      <td>0</td>\n",
              "      <td>0</td>\n",
              "      <td>0</td>\n",
              "      <td>0</td>\n",
              "      <td>0</td>\n",
              "      <td>0</td>\n",
              "    </tr>\n",
              "    <tr>\n",
              "      <th>4</th>\n",
              "      <td>az</td>\n",
              "      <td>v</td>\n",
              "      <td>n</td>\n",
              "      <td>f</td>\n",
              "      <td>d</td>\n",
              "      <td>h</td>\n",
              "      <td>d</td>\n",
              "      <td>n</td>\n",
              "      <td>0</td>\n",
              "      <td>0</td>\n",
              "      <td>...</td>\n",
              "      <td>0</td>\n",
              "      <td>0</td>\n",
              "      <td>0</td>\n",
              "      <td>0</td>\n",
              "      <td>0</td>\n",
              "      <td>0</td>\n",
              "      <td>0</td>\n",
              "      <td>0</td>\n",
              "      <td>0</td>\n",
              "      <td>0</td>\n",
              "    </tr>\n",
              "  </tbody>\n",
              "</table>\n",
              "<p>5 rows × 364 columns</p>\n",
              "</div>"
            ],
            "text/plain": [
              "   X0 X1  X2 X3 X4 X5 X6 X8  X10  X12  ...  X375  X376  X377  X378  X379  \\\n",
              "0   k  v  at  a  d  u  j  o    0    0  ...     0     0     1     0     0   \n",
              "1   k  t  av  e  d  y  l  o    0    0  ...     1     0     0     0     0   \n",
              "2  az  w   n  c  d  x  j  x    0    0  ...     0     0     0     0     0   \n",
              "3  az  t   n  f  d  x  l  e    0    0  ...     0     0     0     0     0   \n",
              "4  az  v   n  f  d  h  d  n    0    0  ...     0     0     0     0     0   \n",
              "\n",
              "   X380  X382  X383  X384  X385  \n",
              "0     0     0     0     0     0  \n",
              "1     0     0     0     0     0  \n",
              "2     0     1     0     0     0  \n",
              "3     0     0     0     0     0  \n",
              "4     0     0     0     0     0  \n",
              "\n",
              "[5 rows x 364 columns]"
            ]
          },
          "execution_count": 12,
          "metadata": {},
          "output_type": "execute_result"
        }
      ],
      "source": [
        "features.head()"
      ]
    },
    {
      "cell_type": "code",
      "execution_count": null,
      "id": "4d58f0b5",
      "metadata": {
        "id": "4d58f0b5",
        "outputId": "fbb579de-69bc-443b-a1c0-391a3c7f9042"
      },
      "outputs": [
        {
          "data": {
            "text/plain": [
              "array([130.81,  88.53,  76.26, ..., 109.22,  87.48, 110.85])"
            ]
          },
          "execution_count": 13,
          "metadata": {},
          "output_type": "execute_result"
        }
      ],
      "source": [
        "label"
      ]
    },
    {
      "cell_type": "code",
      "execution_count": null,
      "id": "0e1e0c53",
      "metadata": {
        "id": "0e1e0c53",
        "outputId": "9bbc44e2-58cc-4257-fba5-2f44fa92e27d"
      },
      "outputs": [
        {
          "data": {
            "text/html": [
              "<div>\n",
              "<style scoped>\n",
              "    .dataframe tbody tr th:only-of-type {\n",
              "        vertical-align: middle;\n",
              "    }\n",
              "\n",
              "    .dataframe tbody tr th {\n",
              "        vertical-align: top;\n",
              "    }\n",
              "\n",
              "    .dataframe thead th {\n",
              "        text-align: right;\n",
              "    }\n",
              "</style>\n",
              "<table border=\"1\" class=\"dataframe\">\n",
              "  <thead>\n",
              "    <tr style=\"text-align: right;\">\n",
              "      <th></th>\n",
              "      <th>X0</th>\n",
              "      <th>X1</th>\n",
              "      <th>X2</th>\n",
              "      <th>X3</th>\n",
              "      <th>X4</th>\n",
              "      <th>X5</th>\n",
              "      <th>X6</th>\n",
              "      <th>X8</th>\n",
              "    </tr>\n",
              "  </thead>\n",
              "  <tbody>\n",
              "    <tr>\n",
              "      <th>count</th>\n",
              "      <td>4209</td>\n",
              "      <td>4209</td>\n",
              "      <td>4209</td>\n",
              "      <td>4209</td>\n",
              "      <td>4209</td>\n",
              "      <td>4209</td>\n",
              "      <td>4209</td>\n",
              "      <td>4209</td>\n",
              "    </tr>\n",
              "    <tr>\n",
              "      <th>unique</th>\n",
              "      <td>47</td>\n",
              "      <td>27</td>\n",
              "      <td>44</td>\n",
              "      <td>7</td>\n",
              "      <td>4</td>\n",
              "      <td>29</td>\n",
              "      <td>12</td>\n",
              "      <td>25</td>\n",
              "    </tr>\n",
              "    <tr>\n",
              "      <th>top</th>\n",
              "      <td>z</td>\n",
              "      <td>aa</td>\n",
              "      <td>as</td>\n",
              "      <td>c</td>\n",
              "      <td>d</td>\n",
              "      <td>w</td>\n",
              "      <td>g</td>\n",
              "      <td>j</td>\n",
              "    </tr>\n",
              "    <tr>\n",
              "      <th>freq</th>\n",
              "      <td>360</td>\n",
              "      <td>833</td>\n",
              "      <td>1659</td>\n",
              "      <td>1942</td>\n",
              "      <td>4205</td>\n",
              "      <td>231</td>\n",
              "      <td>1042</td>\n",
              "      <td>277</td>\n",
              "    </tr>\n",
              "  </tbody>\n",
              "</table>\n",
              "</div>"
            ],
            "text/plain": [
              "          X0    X1    X2    X3    X4    X5    X6    X8\n",
              "count   4209  4209  4209  4209  4209  4209  4209  4209\n",
              "unique    47    27    44     7     4    29    12    25\n",
              "top        z    aa    as     c     d     w     g     j\n",
              "freq     360   833  1659  1942  4205   231  1042   277"
            ]
          },
          "execution_count": 14,
          "metadata": {},
          "output_type": "execute_result"
        }
      ],
      "source": [
        "features.describe(include=\"O\")"
      ]
    },
    {
      "cell_type": "code",
      "execution_count": null,
      "id": "cbf93619",
      "metadata": {
        "id": "cbf93619",
        "outputId": "a938c241-b0e8-4037-a68c-0ac14ea170bb"
      },
      "outputs": [
        {
          "data": {
            "text/plain": [
              "array(['X0', 'X1', 'X2', 'X3', 'X4', 'X5', 'X6', 'X8'], dtype=object)"
            ]
          },
          "execution_count": 15,
          "metadata": {},
          "output_type": "execute_result"
        }
      ],
      "source": [
        "#Get only object column names\n",
        "\n",
        "objcols=features.describe(include=['object']).columns.values\n",
        "objcols"
      ]
    },
    {
      "cell_type": "code",
      "execution_count": null,
      "id": "1e2b7307",
      "metadata": {
        "id": "1e2b7307",
        "outputId": "74613d1a-864a-45de-a185-954a66a01cb9"
      },
      "outputs": [
        {
          "data": {
            "text/plain": [
              "array([[32, 23, 17, ...,  0,  0,  0],\n",
              "       [32, 21, 19, ...,  0,  0,  0],\n",
              "       [20, 24, 34, ...,  0,  0,  0],\n",
              "       ...,\n",
              "       [ 8, 23, 38, ...,  0,  0,  0],\n",
              "       [ 9, 19, 25, ...,  0,  0,  0],\n",
              "       [46, 19,  3, ...,  0,  0,  0]], dtype=int64)"
            ]
          },
          "execution_count": 16,
          "metadata": {},
          "output_type": "execute_result"
        }
      ],
      "source": [
        "\n",
        "from sklearn.preprocessing import LabelEncoder\n",
        "\n",
        "le=LabelEncoder()\n",
        "\n",
        "for i in objcols:\n",
        "  features[i]= le.fit_transform(features[i])\n",
        "\n",
        "fea=features.values\n",
        "\n",
        "fea"
      ]
    },
    {
      "cell_type": "code",
      "execution_count": null,
      "id": "fedf549f",
      "metadata": {
        "id": "fedf549f",
        "outputId": "ee2373bc-eaa9-484a-a9bd-418afa87b82c"
      },
      "outputs": [
        {
          "data": {
            "text/plain": [
              "array([[ 0.16301209,  1.39348787, -0.02812155, ..., -0.04081511,\n",
              "        -0.02180363, -0.03778296],\n",
              "       [ 0.16301209,  1.15902093,  0.15538793, ..., -0.04081511,\n",
              "        -0.02180363, -0.03778296],\n",
              "       [-0.71055977,  1.51072134,  1.53170902, ..., -0.04081511,\n",
              "        -0.02180363, -0.03778296],\n",
              "       ...,\n",
              "       [-1.58413164,  1.39348787,  1.89872798, ..., -0.04081511,\n",
              "        -0.02180363, -0.03778296],\n",
              "       [-1.51133398,  0.924554  ,  0.70591637, ..., -0.04081511,\n",
              "        -0.02180363, -0.03778296],\n",
              "       [ 1.18217927,  0.924554  , -1.31268791, ..., -0.04081511,\n",
              "        -0.02180363, -0.03778296]])"
            ]
          },
          "execution_count": 17,
          "metadata": {},
          "output_type": "execute_result"
        }
      ],
      "source": [
        "#Standardize the data using StandardScaler\n",
        "\n",
        "from sklearn.preprocessing import StandardScaler\n",
        "sc = StandardScaler()\n",
        "featuresstd = sc.fit_transform(fea)\n",
        "featuresstd"
      ]
    },
    {
      "cell_type": "markdown",
      "id": "c8140a6a",
      "metadata": {
        "id": "c8140a6a"
      },
      "source": [
        "### 4] Perform dimensionality reduction"
      ]
    },
    {
      "cell_type": "code",
      "execution_count": null,
      "id": "f7c3c963",
      "metadata": {
        "id": "f7c3c963",
        "outputId": "5fe0d10e-4f93-4b49-8964-92065e9c3aaf"
      },
      "outputs": [
        {
          "data": {
            "text/plain": [
              "PCA(n_components=364, svd_solver='full')"
            ]
          },
          "execution_count": 18,
          "metadata": {},
          "output_type": "execute_result"
        }
      ],
      "source": [
        "from sklearn.decomposition import PCA\n",
        "\n",
        "pca = PCA(n_components=364, svd_solver='full')\n",
        "pca.fit(featuresstd,label)"
      ]
    },
    {
      "cell_type": "code",
      "execution_count": null,
      "id": "c238344d",
      "metadata": {
        "id": "c238344d",
        "outputId": "5c89279b-7f4b-411c-89ab-d71ebb8d60ff"
      },
      "outputs": [
        {
          "name": "stdout",
          "output_type": "stream",
          "text": [
            "93\n"
          ]
        }
      ],
      "source": [
        "print(len(pca.explained_variance_ratio_[pca.explained_variance_ratio_>0.002747252747252748]))"
      ]
    },
    {
      "cell_type": "code",
      "execution_count": null,
      "id": "528c79be",
      "metadata": {
        "id": "528c79be",
        "outputId": "82dba898-6d79-409e-8057-2f3625e86fa7"
      },
      "outputs": [
        {
          "data": {
            "text/plain": [
              "(4209, 93)"
            ]
          },
          "execution_count": 20,
          "metadata": {},
          "output_type": "execute_result"
        }
      ],
      "source": [
        "#PCA with n components 93 which has explained variance ratio >threshold\n",
        "\n",
        "pca = PCA(n_components=93,svd_solver='full')\n",
        "pca.fit(featuresstd,label)\n",
        "\n",
        "finalFeatures = pca.transform(featuresstd)\n",
        "finalFeatures.shape"
      ]
    },
    {
      "cell_type": "code",
      "execution_count": null,
      "id": "f9e7a5b1",
      "metadata": {
        "scrolled": true,
        "id": "f9e7a5b1",
        "outputId": "b84f673c-3842-4b5c-b70e-301480cd52a9"
      },
      "outputs": [
        {
          "data": {
            "text/plain": [
              "array([[12.25446667, -2.94420951, -0.95784987, ...,  0.86912516,\n",
              "        -0.73892033, -0.80982148],\n",
              "       [-0.10254567,  0.36606164,  0.99722405, ...,  0.38555584,\n",
              "        -2.33082016, -0.62422555],\n",
              "       [10.27831815, 21.10492781, -5.01329942, ...,  0.08878323,\n",
              "        -0.28542568, -1.90053779],\n",
              "       ...,\n",
              "       [ 0.43696828,  0.89752935,  3.44522225, ..., -0.55307597,\n",
              "         0.05632946, -0.13451454],\n",
              "       [-1.34167187,  0.58925266, -0.10965489, ..., -0.75894816,\n",
              "        -0.12206212,  0.02963942],\n",
              "       [-2.16821336, -1.06043018, -0.28807512, ..., -0.15311066,\n",
              "        -0.34216957, -0.3637978 ]])"
            ]
          },
          "execution_count": 21,
          "metadata": {},
          "output_type": "execute_result"
        }
      ],
      "source": [
        "finalFeatures"
      ]
    },
    {
      "cell_type": "code",
      "execution_count": null,
      "id": "b01e5fe1",
      "metadata": {
        "id": "b01e5fe1",
        "outputId": "bd77a8d3-f93a-4cfd-8719-67e4d685ba57"
      },
      "outputs": [
        {
          "data": {
            "text/plain": [
              "(4209,)"
            ]
          },
          "execution_count": 22,
          "metadata": {},
          "output_type": "execute_result"
        }
      ],
      "source": [
        "label.shape"
      ]
    },
    {
      "cell_type": "markdown",
      "id": "67ff49a9",
      "metadata": {
        "id": "67ff49a9"
      },
      "source": [
        "### 5] Predict your test_df values using xgboost"
      ]
    },
    {
      "cell_type": "code",
      "execution_count": null,
      "id": "cb3aae17",
      "metadata": {
        "id": "cb3aae17"
      },
      "outputs": [],
      "source": [
        "from sklearn.model_selection import train_test_split\n",
        "X_train,X_test,y_train,y_test = train_test_split(X,y,train_size=0.8,random_state=123)"
      ]
    },
    {
      "cell_type": "code",
      "execution_count": null,
      "id": "d3b40e85",
      "metadata": {
        "id": "d3b40e85"
      },
      "outputs": [],
      "source": [
        "X=finalFeatures"
      ]
    },
    {
      "cell_type": "code",
      "execution_count": null,
      "id": "3a8b0b81",
      "metadata": {
        "id": "3a8b0b81"
      },
      "outputs": [],
      "source": [
        "y=label"
      ]
    },
    {
      "cell_type": "code",
      "execution_count": null,
      "id": "259bb03d",
      "metadata": {
        "id": "259bb03d",
        "outputId": "8b5a9bfd-ddcd-4617-9da0-ec71e20e2c59"
      },
      "outputs": [
        {
          "name": "stdout",
          "output_type": "stream",
          "text": [
            "(3367, 93)\n",
            "(842, 93)\n",
            "(3367,)\n",
            "(842,)\n"
          ]
        }
      ],
      "source": [
        "print(X_train.shape)\n",
        "print(X_test.shape)\n",
        "print(y_train.shape)\n",
        "print(y_test.shape)"
      ]
    },
    {
      "cell_type": "code",
      "execution_count": null,
      "id": "33a97ede",
      "metadata": {
        "id": "33a97ede",
        "outputId": "27cc8ce4-22ec-4e00-a31b-b0d9fa51d745"
      },
      "outputs": [
        {
          "name": "stdout",
          "output_type": "stream",
          "text": [
            "[16:03:09] WARNING: C:/buildkite-agent/builds/buildkite-windows-cpu-autoscaling-group-i-030221e36e1a46bfb-1/xgboost/xgboost-ci-windows/src/learner.cc:767: \n",
            "Parameters: { \"learnning_rate\" } are not used.\n",
            "\n"
          ]
        },
        {
          "data": {
            "text/plain": [
              "XGBRegressor(base_score=0.5, booster='gbtree', callbacks=None,\n",
              "             colsample_bylevel=1, colsample_bynode=1, colsample_bytree=1,\n",
              "             early_stopping_rounds=None, enable_categorical=False,\n",
              "             eval_metric=None, feature_types=None, gamma=0, gpu_id=-1,\n",
              "             grow_policy='depthwise', importance_type=None,\n",
              "             interaction_constraints='', learning_rate=0.300000012,\n",
              "             learnning_rate=0.1, max_bin=256, max_cat_threshold=64,\n",
              "             max_cat_to_onehot=4, max_delta_step=0, max_depth=6, max_leaves=0,\n",
              "             min_child_weight=1, missing=nan, monotone_constraints='()',\n",
              "             n_estimators=100, n_jobs=0, num_parallel_tree=1, predictor='auto', ...)"
            ]
          },
          "execution_count": 39,
          "metadata": {},
          "output_type": "execute_result"
        }
      ],
      "source": [
        "from xgboost import XGBRegressor\n",
        "\n",
        "\n",
        "xgb = XGBRegressor(objective='reg:squarederror', learnning_rate=0.1)\n",
        "\n",
        "xgb.fit(X_train,y_train)"
      ]
    },
    {
      "cell_type": "code",
      "execution_count": null,
      "id": "62d9de68",
      "metadata": {
        "id": "62d9de68",
        "outputId": "5c1f3d87-1033-4a31-f439-22d536866d40"
      },
      "outputs": [
        {
          "name": "stdout",
          "output_type": "stream",
          "text": [
            "Training Accuracy  0.9658781068936337\n",
            "Testing Accuracy  0.47422204239084287\n"
          ]
        }
      ],
      "source": [
        "#Check the quality of model\n",
        "print(\"Training Accuracy \",model.score(X_train,y_train))\n",
        "print(\"Testing Accuracy \",model.score(X_test,y_test))"
      ]
    },
    {
      "cell_type": "markdown",
      "id": "310f4ce6",
      "metadata": {
        "id": "310f4ce6"
      },
      "source": [
        "#### The Model is Overfitting"
      ]
    }
  ],
  "metadata": {
    "kernelspec": {
      "display_name": "Python 3 (ipykernel)",
      "language": "python",
      "name": "python3"
    },
    "language_info": {
      "codemirror_mode": {
        "name": "ipython",
        "version": 3
      },
      "file_extension": ".py",
      "mimetype": "text/x-python",
      "name": "python",
      "nbconvert_exporter": "python",
      "pygments_lexer": "ipython3",
      "version": "3.9.13"
    },
    "colab": {
      "provenance": []
    }
  },
  "nbformat": 4,
  "nbformat_minor": 5
}